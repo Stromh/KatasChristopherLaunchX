{
 "cells": [
  {
   "cell_type": "markdown",
   "metadata": {},
   "source": [
    "## Ejercicio 1: Creación de un bucle \"while\""
   ]
  },
  {
   "cell_type": "code",
   "execution_count": null,
   "metadata": {},
   "outputs": [],
   "source": [
    "# Declara dos variables\n",
    "Nombre_planeta = \"\"\n",
    "Lista_planetas = []\n",
    "\n",
    "# Escribe el ciclo while solicitado\n",
    "\n",
    "while Nombre_planeta.lower() != \"hecho\":\n",
    "    if Nombre_planeta:\n",
    "        Lista_planetas.append(Nombre_planeta)\n",
    "    Nombre_planeta = input(\"Introduce el nombre del planeta: \")\n",
    "\n",
    "\n",
    "## Ejercicio 2: Creación de un ciclo \"for\"\n",
    "# Escribe tu ciclo for para iterar en una lista de planetas\n",
    "for Nombre_planeta in Lista_planetas:\n",
    "    print(Nombre_planeta)"
   ]
  }
 ],
 "metadata": {
  "interpreter": {
   "hash": "3274613e4512a9514450735803bbe23ff981e5b3b9bdc9fed3480a0cf21c324d"
  },
  "kernelspec": {
   "display_name": "Python 3.9.10 64-bit (windows store)",
   "language": "python",
   "name": "python3"
  },
  "language_info": {
   "codemirror_mode": {
    "name": "ipython",
    "version": 3
   },
   "file_extension": ".py",
   "mimetype": "text/x-python",
   "name": "python",
   "nbconvert_exporter": "python",
   "pygments_lexer": "ipython3",
   "version": "3.9.10"
  },
  "orig_nbformat": 4
 },
 "nbformat": 4,
 "nbformat_minor": 2
}
