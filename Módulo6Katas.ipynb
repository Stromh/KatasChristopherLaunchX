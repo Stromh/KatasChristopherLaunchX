{
 "cells": [
  {
   "cell_type": "markdown",
   "metadata": {},
   "source": [
    "## Ejercicio1: Crear y usar listas de Python"
   ]
  },
  {
   "cell_type": "code",
   "execution_count": null,
   "metadata": {},
   "outputs": [],
   "source": [
    "# Creamos la lista planets y la mostramos\n",
    "planetas = ['Mercury', 'Venus', 'Earth', 'Mars', 'Jupiter', 'Saturn', 'Uranus', 'Neptune']\n",
    "print('Hay', len(planetas), 'planetas')\n",
    "\n",
    "# Agregamos a plutón y mostramos el último elemento\n",
    "planetas.append('Pluto')\n",
    "print(planetas[-1], 'es el ultimo planeta')"
   ]
  },
  {
   "cell_type": "markdown",
   "metadata": {},
   "source": [
    "## Ejercicio 2: Trabajando con datos de una lista"
   ]
  },
  {
   "cell_type": "code",
   "execution_count": 10,
   "metadata": {},
   "outputs": [
    {
     "name": "stdout",
     "output_type": "stream",
     "text": [
      "Planetas mas cercanos a: Earth\n",
      "['Mercury', 'Venus']\n",
      "Planetas mas lejanos a: Earth\n",
      "['Mars', 'Jupiter', 'Saturn', 'Neptune']\n"
     ]
    }
   ],
   "source": [
    "# Lista de planetas\n",
    "planets = ['Mercury', 'Venus', 'Earth', 'Mars', 'Jupiter', 'Saturn', 'Neptune']\n",
    "\n",
    "# Solicitamos el nombre de un planeta *Pista:  input()*\n",
    "plantea_bus = input('Introduzca el nombre del planeta a buscar: ')\n",
    "\n",
    "# Busca el planeta en la lista\n",
    "indice = planets.index(plantea_bus)\n",
    "\n",
    "# Muestra los planetas más cercanos al sol\n",
    "print('Planetas mas cercanos a: ' + plantea_bus)\n",
    "print(planets[0:indice])\n",
    "\n",
    "# Muestra los planetas más lejanos al sol\n",
    "print('Planetas mas lejanos a: ' + plantea_bus)\n",
    "print(planets[indice + 1:])"
   ]
  }
 ],
 "metadata": {
  "interpreter": {
   "hash": "3274613e4512a9514450735803bbe23ff981e5b3b9bdc9fed3480a0cf21c324d"
  },
  "kernelspec": {
   "display_name": "Python 3.9.10 64-bit (windows store)",
   "language": "python",
   "name": "python3"
  },
  "language_info": {
   "codemirror_mode": {
    "name": "ipython",
    "version": 3
   },
   "file_extension": ".py",
   "mimetype": "text/x-python",
   "name": "python",
   "nbconvert_exporter": "python",
   "pygments_lexer": "ipython3",
   "version": "3.9.10"
  },
  "orig_nbformat": 4
 },
 "nbformat": 4,
 "nbformat_minor": 2
}
