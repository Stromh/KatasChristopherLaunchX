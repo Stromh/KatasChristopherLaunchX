{
 "cells": [
  {
   "cell_type": "markdown",
   "metadata": {},
   "source": [
    "## Ejercicio1 - Utilizar operadores aritméticos"
   ]
  },
  {
   "cell_type": "code",
   "execution_count": null,
   "metadata": {},
   "outputs": [],
   "source": [
    "# Crear variables para almacenar las dos distancias\n",
    "# ¡Asegúrate de quitar las comas!\n",
    "\n",
    "Tierra = 149597870\n",
    "Jupiter = 778547200\n",
    "\n",
    "# Calcular la distancia entre planetas\n",
    "distancia = Jupiter - Tierra\n",
    "print(\"Distacia en kilometros: \", distancia)\n",
    "\n",
    "distancia_millas = distancia * 0.621\n",
    "print(\"Distacia en millas: \", distancia_millas)"
   ]
  },
  {
   "cell_type": "markdown",
   "metadata": {},
   "source": [
    "## Ejercicio 2: convierte cadenas en números y usa valores absolutos"
   ]
  },
  {
   "cell_type": "code",
   "execution_count": 3,
   "metadata": {},
   "outputs": [
    {
     "name": "stdout",
     "output_type": "stream",
     "text": [
      "Distancia en Km:  20\n",
      "Distancia en Millas:  12.42\n"
     ]
    }
   ],
   "source": [
    "# Almacenar las entradas del usuario\n",
    "P1 = input(\"Introduzca la distancia en Km para el primer planeta: \")\n",
    "P2 = input(\"Introduzca la distancia en Km para el segundo planeta: \")\n",
    "\n",
    "# Convierte las cadenas de ambos planetas a números enteros\n",
    "P1 = int(P1)\n",
    "P2 = int(P2)\n",
    "\n",
    "# Realizar el cálculo y determinar el valor absoluto\n",
    "distancia = P2-P1\n",
    "print(\"Distancia en Km: \", abs(distancia))\n",
    "\n",
    "# Convertir de KM a Millas\n",
    "distancia_millas = distancia * 0.621\n",
    "print(\"Distancia en Millas: \", abs(distancia_millas))\n",
    "\n",
    "\n"
   ]
  }
 ],
 "metadata": {
  "interpreter": {
   "hash": "3274613e4512a9514450735803bbe23ff981e5b3b9bdc9fed3480a0cf21c324d"
  },
  "kernelspec": {
   "display_name": "Python 3.9.10 64-bit (windows store)",
   "language": "python",
   "name": "python3"
  },
  "language_info": {
   "codemirror_mode": {
    "name": "ipython",
    "version": 3
   },
   "file_extension": ".py",
   "mimetype": "text/x-python",
   "name": "python",
   "nbconvert_exporter": "python",
   "pygments_lexer": "ipython3",
   "version": "3.9.10"
  },
  "orig_nbformat": 4
 },
 "nbformat": 4,
 "nbformat_minor": 2
}
