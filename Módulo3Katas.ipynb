{
 "cells": [
  {
   "cell_type": "markdown",
   "metadata": {},
   "source": [
    "## Advertencia de Asteroides"
   ]
  },
  {
   "cell_type": "code",
   "execution_count": 24,
   "metadata": {},
   "outputs": [
    {
     "name": "stdout",
     "output_type": "stream",
     "text": [
      "Advertencia de asteroide\n"
     ]
    }
   ],
   "source": [
    "# Velocidades superiores a 25 kilómetros por segundo(km/s) -> advertencia\n",
    "Vs = 25\n",
    "Vi = 49\n",
    "if Vi > Vs:\n",
    "    print(\"¡Advertencia de asteroide!\")\n",
    "else:\n",
    "    print(\"¡Continua con tu dia!\")"
   ]
  },
  {
   "cell_type": "markdown",
   "metadata": {},
   "source": [
    "## Asteroide en la atmosfera Terrestre"
   ]
  },
  {
   "cell_type": "code",
   "execution_count": 28,
   "metadata": {},
   "outputs": [
    {
     "name": "stdout",
     "output_type": "stream",
     "text": [
      "¡El asteroide es muy lento!\n"
     ]
    }
   ],
   "source": [
    "# Velocidad mayor o igual a 20 km/s -> rayo de luz que se puede ver desde la Tierra.\n",
    "Vs = 20\n",
    "Vi = 19\n",
    "if Vi >= Vs:\n",
    "    print(\"¡Se puede observar el rayo de luz!\")\n",
    "else:\n",
    "    print(\"¡El asteroide es muy lento!\")"
   ]
  },
  {
   "cell_type": "markdown",
   "metadata": {},
   "source": [
    "## Mejorando el sistema de advertencia"
   ]
  },
  {
   "cell_type": "code",
   "execution_count": 24,
   "metadata": {},
   "outputs": [
    {
     "name": "stdout",
     "output_type": "stream",
     "text": [
      "El asteroide se desintegrara en la atmosfera\n"
     ]
    }
   ],
   "source": [
    "\n",
    "diametro = 10\n",
    "velocidad = 15\n",
    "\n",
    "if diametro> 25 and velocidad> 25:\n",
    "    print(\"¡Adevertencia posible asteroide peligroso\")\n",
    "elif velocidad>=20:\n",
    "    print(\"¡Se puede observar el rayo de luz!\")\n",
    "elif diametro<25:\n",
    "    print(\"El asteroide se desintegrara en la atmosfera\")\n"
   ]
  }
 ],
 "metadata": {
  "interpreter": {
   "hash": "3274613e4512a9514450735803bbe23ff981e5b3b9bdc9fed3480a0cf21c324d"
  },
  "kernelspec": {
   "display_name": "Python 3.9.10 64-bit (windows store)",
   "language": "python",
   "name": "python3"
  },
  "language_info": {
   "codemirror_mode": {
    "name": "ipython",
    "version": 3
   },
   "file_extension": ".py",
   "mimetype": "text/x-python",
   "name": "python",
   "nbconvert_exporter": "python",
   "pygments_lexer": "ipython3",
   "version": "3.9.10"
  },
  "orig_nbformat": 4
 },
 "nbformat": 4,
 "nbformat_minor": 2
}
